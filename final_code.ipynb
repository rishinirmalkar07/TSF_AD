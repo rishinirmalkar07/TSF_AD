{
 "cells": [
  {
   "cell_type": "code",
   "execution_count": null,
   "id": "499d2b25",
   "metadata": {},
   "outputs": [],
   "source": [
    "import os\n",
    "import numpy as np\n",
    "import pandas as pd\n",
    "import matplotlib.pyplot as plt\n",
    "import seaborn as sns\n",
    "\n",
    "from sklearn.preprocessing import LabelEncoder\n",
    "from scipy.stats import zscore\n",
    "from sklearn.ensemble import IsolationForest\n",
    "from sklearn.model_selection import train_test_split\n",
    "\n",
    "from pmdarima import auto_arima\n",
    "from statsmodels.tsa.statespace.sarimax import SARIMAX\n",
    "from statsmodels.tsa.stattools import adfuller\n"
   ]
  },
  {
   "cell_type": "code",
   "execution_count": null,
   "id": "615face7",
   "metadata": {},
   "outputs": [],
   "source": [
    "df = pd.read_excel(\"data.xlsx\")\n",
    "print(\"Dataset loaded with shape:\", df.shape)\n"
   ]
  },
  {
   "cell_type": "code",
   "execution_count": null,
   "id": "3d2af84e",
   "metadata": {},
   "outputs": [],
   "source": [
    "plt.figure(figsize=(14, 6))\n",
    "\n",
    "# Bar plot for categorical feature 'type'\n",
    "plt.subplot(1, 2, 1)\n",
    "df[\"type\"].value_counts().plot(kind='bar', color='skyblue')\n",
    "plt.title(\"Distribution of 'type'\")\n",
    "plt.xlabel(\"Type\")\n",
    "plt.ylabel(\"Count\")\n",
    "\n",
    "# Box plot for 'amount'\n",
    "plt.subplot(1, 2, 2)\n",
    "sns.boxplot(x=df['amount'])\n",
    "plt.title(\"Box Plot of 'amount'\")\n",
    "\n",
    "plt.tight_layout()\n",
    "plt.show()\n"
   ]
  },
  {
   "cell_type": "code",
   "execution_count": null,
   "id": "b5f97ab0",
   "metadata": {},
   "outputs": [],
   "source": [
    "for col in df.columns:\n",
    "    if df[col].dtype == \"object\":\n",
    "        df[col].fillna(\"None\", inplace=True)\n",
    "        df[col] = LabelEncoder().fit_transform(df[col].astype(str))\n",
    "    else:\n",
    "        df[col].fillna(-999, inplace=True)\n",
    "\n",
    "print(\"Preprocessed Data:\\n\", df.head())\n"
   ]
  },
  {
   "cell_type": "code",
   "execution_count": null,
   "id": "ecd8a7c4",
   "metadata": {},
   "outputs": [],
   "source": [
    "def check_stationarity(series):\n",
    "    result = adfuller(series.dropna())\n",
    "    return result[1] <= 0.05\n",
    "\n",
    "target_col = \"newbalanceOrig\"\n",
    "\n",
    "if target_col in df.columns:\n",
    "    stationary = check_stationarity(df[target_col])\n",
    "    print(f\"{target_col} is {'Stationary' if stationary else 'Non-Stationary'}\")\n",
    "\n",
    "    if not stationary:\n",
    "        df[target_col] = df[target_col].diff().dropna()\n",
    "        df.dropna(inplace=True)\n"
   ]
  },
  {
   "cell_type": "code",
   "execution_count": null,
   "id": "482ee5d0",
   "metadata": {},
   "outputs": [],
   "source": [
    "print(\"\\nAuto-ARIMA fitting...\")\n",
    "arima_model = auto_arima(df[target_col], trace=True, error_action='ignore', suppress_warnings=True)\n",
    "print(arima_model.summary())\n",
    "\n",
    "n_periods = 10\n",
    "forecast, conf_int = arima_model.predict(n_periods=n_periods, return_conf_int=True)\n",
    "\n",
    "plt.figure(figsize=(10, 4))\n",
    "plt.plot(df[target_col], label='Original Series')\n",
    "plt.plot(np.arange(len(df[target_col]), len(df[target_col]) + n_periods), forecast, label='Forecast', color='red')\n",
    "plt.fill_between(np.arange(len(df[target_col]), len(df[target_col]) + n_periods),\n",
    "                 conf_int[:, 0], conf_int[:, 1], color='pink', alpha=0.3)\n",
    "plt.title(\"ARIMA Forecast\")\n",
    "plt.legend()\n",
    "plt.show()\n"
   ]
  },
  {
   "cell_type": "code",
   "execution_count": null,
   "id": "08765032",
   "metadata": {},
   "outputs": [],
   "source": [
    "print(\"\\nSARIMAX Model fitting...\")\n",
    "sarimax_model = SARIMAX(\n",
    "    df[target_col],\n",
    "    order=(1, 1, 1),\n",
    "    seasonal_order=(1, 1, 1, 12),\n",
    "    enforce_stationarity=False,\n",
    "    enforce_invertibility=False\n",
    ")\n",
    "sarimax_result = sarimax_model.fit(disp=False)\n",
    "print(sarimax_result.summary())\n",
    "\n",
    "forecast_sarimax = sarimax_result.forecast(steps=n_periods)\n",
    "\n",
    "plt.figure(figsize=(10, 4))\n",
    "plt.plot(df[target_col], label='Original Series')\n",
    "plt.plot(np.arange(len(df[target_col]), len(df[target_col]) + n_periods), forecast_sarimax, label='SARIMAX Forecast', color='green')\n",
    "plt.title(\"SARIMAX Forecast\")\n",
    "plt.legend()\n",
    "plt.show()\n"
   ]
  },
  {
   "cell_type": "code",
   "execution_count": null,
   "id": "ca92eb9b",
   "metadata": {},
   "outputs": [],
   "source": [
    "print(\"\\nZ-Score Outlier Detection:\")\n",
    "numeric_cols = df.select_dtypes(include=[np.number]).columns\n",
    "\n",
    "for col in numeric_cols:\n",
    "    df[f\"{col}_zscore\"] = zscore(df[col])\n",
    "    outliers = df[np.abs(df[f\"{col}_zscore\"]) > 3]\n",
    "    print(f\"Outliers in {col}: {len(outliers)}\")\n"
   ]
  },
  {
   "cell_type": "code",
   "execution_count": null,
   "id": "2a77c9f2",
   "metadata": {},
   "outputs": [],
   "source": [
    "print(\"\\nIsolation Forest Anomaly Detection:\")\n",
    "features = df[numeric_cols].drop(columns=[f\"{col}_zscore\" for col in numeric_cols], errors='ignore')\n",
    "\n",
    "iso_model = IsolationForest(n_estimators=100, contamination=0.05, random_state=42)\n",
    "df['anomaly'] = iso_model.fit_predict(features)\n",
    "\n",
    "print(\"Anomalies detected:\")\n",
    "print(df['anomaly'].value_counts())\n",
    "\n",
    "plt.figure(figsize=(10, 4))\n",
    "plt.plot(df[target_col].values, label='Data')\n",
    "plt.scatter(df.index[df['anomaly'] == -1], df[target_col][df['anomaly'] == -1], color='red', label='Anomaly')\n",
    "plt.legend()\n",
    "plt.title(\"Anomaly Detection in Time Series\")\n",
    "plt.show()\n"
   ]
  },
  {
   "cell_type": "code",
   "execution_count": null,
   "id": "ce64f907",
   "metadata": {},
   "outputs": [],
   "source": []
  },
  {
   "cell_type": "code",
   "execution_count": null,
   "id": "49447d7e",
   "metadata": {},
   "outputs": [],
   "source": []
  }
 ],
 "metadata": {
  "kernelspec": {
   "display_name": ".venv",
   "language": "python",
   "name": "python3"
  },
  "language_info": {
   "codemirror_mode": {
    "name": "ipython",
    "version": 3
   },
   "file_extension": ".py",
   "mimetype": "text/x-python",
   "name": "python",
   "nbconvert_exporter": "python",
   "pygments_lexer": "ipython3",
   "version": "3.10.11"
  }
 },
 "nbformat": 4,
 "nbformat_minor": 5
}
